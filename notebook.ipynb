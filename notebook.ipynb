{
 "cells": [
  {
   "cell_type": "code",
   "metadata": {
    "tags": [],
    "cell_id": "3e85cd46-4453-415c-b9db-e9d30cb5c5e7",
    "deepnote_to_be_reexecuted": false,
    "source_hash": "ff09a080",
    "execution_start": 1644272050906,
    "execution_millis": 8379,
    "deepnote_output_heights": [
     null,
     611
    ],
    "deepnote_cell_type": "code"
   },
   "source": "!pip install wbdata\nimport pandas as pd\nimport wbdata\nwbdata.get_country()",
   "execution_count": 1,
   "outputs": [
    {
     "name": "stdout",
     "text": "Collecting wbdata\n  Downloading wbdata-0.3.0-py3-none-any.whl (14 kB)\nRequirement already satisfied: decorator>=4.0 in /shared-libs/python3.7/py-core/lib/python3.7/site-packages (from wbdata) (5.1.0)\nRequirement already satisfied: tabulate>=0.8.5 in /shared-libs/python3.7/py/lib/python3.7/site-packages (from wbdata) (0.8.9)\nRequirement already satisfied: requests>=2.0 in /shared-libs/python3.7/py/lib/python3.7/site-packages (from wbdata) (2.26.0)\nCollecting appdirs<2.0,>=1.4\n  Downloading appdirs-1.4.4-py2.py3-none-any.whl (9.6 kB)\nRequirement already satisfied: urllib3<1.27,>=1.21.1 in /shared-libs/python3.7/py/lib/python3.7/site-packages (from requests>=2.0->wbdata) (1.26.7)\nRequirement already satisfied: idna<4,>=2.5; python_version >= \"3\" in /shared-libs/python3.7/py-core/lib/python3.7/site-packages (from requests>=2.0->wbdata) (3.3)\nRequirement already satisfied: certifi>=2017.4.17 in /shared-libs/python3.7/py/lib/python3.7/site-packages (from requests>=2.0->wbdata) (2021.10.8)\nRequirement already satisfied: charset-normalizer~=2.0.0; python_version >= \"3\" in /shared-libs/python3.7/py-core/lib/python3.7/site-packages (from requests>=2.0->wbdata) (2.0.9)\nInstalling collected packages: appdirs, wbdata\nSuccessfully installed appdirs-1.4.4 wbdata-0.3.0\n\u001b[33mWARNING: You are using pip version 20.1.1; however, version 22.0.3 is available.\nYou should consider upgrading via the '/root/venv/bin/python -m pip install --upgrade pip' command.\u001b[0m\n",
     "output_type": "stream"
    },
    {
     "output_type": "execute_result",
     "execution_count": 1,
     "data": {
      "text/plain": "id    name\n----  --------------------------------------------------------------------------------\nABW   Aruba\nAFE   Africa Eastern and Southern\nAFG   Afghanistan\nAFR   Africa\nAFW   Africa Western and Central\nAGO   Angola\nALB   Albania\nAND   Andorra\nARB   Arab World\nARE   United Arab Emirates\nARG   Argentina\nARM   Armenia\nASM   American Samoa\nATG   Antigua and Barbuda\nAUS   Australia\nAUT   Austria\nAZE   Azerbaijan\nBDI   Burundi\nBEA   East Asia & Pacific (IBRD-only countries)\nBEC   Europe & Central Asia (IBRD-only countries)\nBEL   Belgium\nBEN   Benin\nBFA   Burkina Faso\nBGD   Bangladesh\nBGR   Bulgaria\nBHI   IBRD countries classified as high income\nBHR   Bahrain\nBHS   Bahamas, The\nBIH   Bosnia and Herzegovina\nBLA   Latin America & the Caribbean (IBRD-only countries)\nBLR   Belarus\nBLZ   Belize\nBMN   Middle East & North Africa (IBRD-only countries)\nBMU   Bermuda\nBOL   Bolivia\nBRA   Brazil\nBRB   Barbados\nBRN   Brunei Darussalam\nBSS   Sub-Saharan Africa (IBRD-only countries)\nBTN   Bhutan\nBWA   Botswana\nCAA   Sub-Saharan Africa (IFC classification)\nCAF   Central African Republic\nCAN   Canada\nCEA   East Asia and the Pacific (IFC classification)\nCEB   Central Europe and the Baltics\nCEU   Europe and Central Asia (IFC classification)\nCHE   Switzerland\nCHI   Channel Islands\nCHL   Chile\nCHN   China\nCIV   Cote d'Ivoire\nCLA   Latin America and the Caribbean (IFC classification)\nCME   Middle East and North Africa (IFC classification)\nCMR   Cameroon\nCOD   Congo, Dem. Rep.\nCOG   Congo, Rep.\nCOL   Colombia\nCOM   Comoros\nCPV   Cabo Verde\nCRI   Costa Rica\nCSA   South Asia (IFC classification)\nCSS   Caribbean small states\nCUB   Cuba\nCUW   Curacao\nCYM   Cayman Islands\nCYP   Cyprus\nCZE   Czech Republic\nDEA   East Asia & Pacific (IDA-eligible countries)\nDEC   Europe & Central Asia (IDA-eligible countries)\nDEU   Germany\nDFS   IDA countries classified as Fragile Situations\nDJI   Djibouti\nDLA   Latin America & the Caribbean (IDA-eligible countries)\nDMA   Dominica\nDMN   Middle East & North Africa (IDA-eligible countries)\nDNF   IDA countries not classified as Fragile Situations\nDNK   Denmark\nDNS   IDA countries in Sub-Saharan Africa not classified as fragile situations\nDOM   Dominican Republic\nDSA   South Asia (IDA-eligible countries)\nDSF   IDA countries in Sub-Saharan Africa classified as fragile situations\nDSS   Sub-Saharan Africa (IDA-eligible countries)\nDZA   Algeria\nEAP   East Asia & Pacific (excluding high income)\nEAR   Early-demographic dividend\nEAS   East Asia & Pacific\nECA   Europe & Central Asia (excluding high income)\nECS   Europe & Central Asia\nECU   Ecuador\nEGY   Egypt, Arab Rep.\nEMU   Euro area\nERI   Eritrea\nESP   Spain\nEST   Estonia\nETH   Ethiopia\nEUU   European Union\nFCS   Fragile and conflict affected situations\nFIN   Finland\nFJI   Fiji\nFRA   France\nFRO   Faroe Islands\nFSM   Micronesia, Fed. Sts.\nFXS   IDA countries classified as fragile situations, excluding Sub-Saharan Africa\nGAB   Gabon\nGBR   United Kingdom\nGEO   Georgia\nGHA   Ghana\nGIB   Gibraltar\nGIN   Guinea\nGMB   Gambia, The\nGNB   Guinea-Bissau\nGNQ   Equatorial Guinea\nGRC   Greece\nGRD   Grenada\nGRL   Greenland\nGTM   Guatemala\nGUM   Guam\nGUY   Guyana\nHIC   High income\nHKG   Hong Kong SAR, China\nHND   Honduras\nHPC   Heavily indebted poor countries (HIPC)\nHRV   Croatia\nHTI   Haiti\nHUN   Hungary\nIBB   IBRD, including blend\nIBD   IBRD only\nIBT   IDA & IBRD total\nIDA   IDA total\nIDB   IDA blend\nIDN   Indonesia\nIDX   IDA only\nIMN   Isle of Man\nIND   India\nINX   Not classified\nIRL   Ireland\nIRN   Iran, Islamic Rep.\nIRQ   Iraq\nISL   Iceland\nISR   Israel\nITA   Italy\nJAM   Jamaica\nJOR   Jordan\nJPN   Japan\nKAZ   Kazakhstan\nKEN   Kenya\nKGZ   Kyrgyz Republic\nKHM   Cambodia\nKIR   Kiribati\nKNA   St. Kitts and Nevis\nKOR   Korea, Rep.\nKWT   Kuwait\nLAC   Latin America & Caribbean (excluding high income)\nLAO   Lao PDR\nLBN   Lebanon\nLBR   Liberia\nLBY   Libya\nLCA   St. Lucia\nLCN   Latin America & Caribbean\nLDC   Least developed countries: UN classification\nLIC   Low income\nLIE   Liechtenstein\nLKA   Sri Lanka\nLMC   Lower middle income\nLMY   Low & middle income\nLSO   Lesotho\nLTE   Late-demographic dividend\nLTU   Lithuania\nLUX   Luxembourg\nLVA   Latvia\nMAC   Macao SAR, China\nMAF   St. Martin (French part)\nMAR   Morocco\nMCO   Monaco\nMDA   Moldova\nMDE   Middle East (developing only)\nMDG   Madagascar\nMDV   Maldives\nMEA   Middle East & North Africa\nMEX   Mexico\nMHL   Marshall Islands\nMIC   Middle income\nMKD   North Macedonia\nMLI   Mali\nMLT   Malta\nMMR   Myanmar\nMNA   Middle East & North Africa (excluding high income)\nMNE   Montenegro\nMNG   Mongolia\nMNP   Northern Mariana Islands\nMOZ   Mozambique\nMRT   Mauritania\nMUS   Mauritius\nMWI   Malawi\nMYS   Malaysia\nNAC   North America\nNAF   North Africa\nNAM   Namibia\nNCL   New Caledonia\nNER   Niger\nNGA   Nigeria\nNIC   Nicaragua\nNLD   Netherlands\nNOR   Norway\nNPL   Nepal\nNRS   Non-resource rich Sub-Saharan Africa countries\nNRU   Nauru\nNXS   IDA countries not classified as fragile situations, excluding Sub-Saharan Africa\nNZL   New Zealand\nOED   OECD members\nOMN   Oman\nOSS   Other small states\nPAK   Pakistan\nPAN   Panama\nPER   Peru\nPHL   Philippines\nPLW   Palau\nPNG   Papua New Guinea\nPOL   Poland\nPRE   Pre-demographic dividend\nPRI   Puerto Rico\nPRK   Korea, Dem. People's Rep.\nPRT   Portugal\nPRY   Paraguay\nPSE   West Bank and Gaza\nPSS   Pacific island small states\nPST   Post-demographic dividend\nPYF   French Polynesia\nQAT   Qatar\nROU   Romania\nRRS   Resource rich Sub-Saharan Africa countries\nRUS   Russian Federation\nRWA   Rwanda\nSAS   South Asia\nSAU   Saudi Arabia\nSDN   Sudan\nSEN   Senegal\nSGP   Singapore\nSLB   Solomon Islands\nSLE   Sierra Leone\nSLV   El Salvador\nSMR   San Marino\nSOM   Somalia\nSRB   Serbia\nSSA   Sub-Saharan Africa (excluding high income)\nSSD   South Sudan\nSSF   Sub-Saharan Africa\nSST   Small states\nSTP   Sao Tome and Principe\nSUR   Suriname\nSVK   Slovak Republic\nSVN   Slovenia\nSWE   Sweden\nSWZ   Eswatini\nSXM   Sint Maarten (Dutch part)\nSXZ   Sub-Saharan Africa excluding South Africa\nSYC   Seychelles\nSYR   Syrian Arab Republic\nTCA   Turks and Caicos Islands\nTCD   Chad\nTEA   East Asia & Pacific (IDA & IBRD countries)\nTEC   Europe & Central Asia (IDA & IBRD countries)\nTGO   Togo\nTHA   Thailand\nTJK   Tajikistan\nTKM   Turkmenistan\nTLA   Latin America & the Caribbean (IDA & IBRD countries)\nTLS   Timor-Leste\nTMN   Middle East & North Africa (IDA & IBRD countries)\nTON   Tonga\nTSA   South Asia (IDA & IBRD)\nTSS   Sub-Saharan Africa (IDA & IBRD countries)\nTTO   Trinidad and Tobago\nTUN   Tunisia\nTUR   Turkey\nTUV   Tuvalu\nTWN   Taiwan, China\nTZA   Tanzania\nUGA   Uganda\nUKR   Ukraine\nUMC   Upper middle income\nURY   Uruguay\nUSA   United States\nUZB   Uzbekistan\nVCT   St. Vincent and the Grenadines\nVEN   Venezuela, RB\nVGB   British Virgin Islands\nVIR   Virgin Islands (U.S.)\nVNM   Vietnam\nVUT   Vanuatu\nWLD   World\nWSM   Samoa\nXKX   Kosovo\nXZN   Sub-Saharan Africa excluding South Africa and Nigeria\nYEM   Yemen, Rep.\nZAF   South Africa\nZMB   Zambia\nZWE   Zimbabwe"
     },
     "metadata": {}
    }
   ]
  },
  {
   "cell_type": "code",
   "metadata": {
    "cell_id": "affbfc9c-d6d6-49aa-b003-f7b2b9089cc8",
    "tags": [],
    "deepnote_to_be_reexecuted": false,
    "source_hash": "34487d20",
    "execution_start": 1644272059288,
    "execution_millis": 109,
    "deepnote_output_heights": [
     611
    ],
    "deepnote_cell_type": "code"
   },
   "source": "#Population indicators\nwbdata.get_indicator(source=40)",
   "execution_count": 2,
   "outputs": [
    {
     "output_type": "execute_result",
     "execution_count": 2,
     "data": {
      "text/plain": "id                 name\n-----------------  -------------------------------------------------------------------\nSH.DTH.0509        Number of deaths ages 5-9 years\nSH.DTH.1014        Number of deaths ages 10-14 years\nSH.DTH.1519        Number of deaths ages 15-19 years\nSH.DTH.2024        Number of deaths ages 20-24 years\nSH.DTH.IMRT        Number of infant deaths\nSH.DTH.IMRT.FE     Number of infant deaths, female\nSH.DTH.IMRT.MA     Number of infant deaths, male\nSH.DTH.MORT        Number of under-five deaths\nSH.DTH.MORT.FE     Number of under-five deaths, female\nSH.DTH.MORT.MA     Number of under-five deaths, male\nSH.DTH.NMRT        Number of neonatal deaths\nSH.DYN.0509        Probability of dying among children ages 5-9 years (per 1,000)\nSH.DYN.1014        Probability of dying among adolescents ages 10-14 years (per 1,000)\nSH.DYN.1519        Probability of dying among adolescents ages 15-19 years (per 1,000)\nSH.DYN.2024        Probability of dying among youth ages 20-24 years (per 1,000)\nSH.DYN.MORT        Mortality rate, under-5 (per 1,000 live births)\nSH.DYN.MORT.FE     Mortality rate, under-5, female (per 1,000 live births)\nSH.DYN.MORT.MA     Mortality rate, under-5, male (per 1,000 live births)\nSH.DYN.NMRT        Mortality rate, neonatal (per 1,000 live births)\nSM.POP.NETM        Net migration\nSP.DYN.AMRT.FE     Mortality rate, adult, female (per 1,000 female adults)\nSP.DYN.AMRT.MA     Mortality rate, adult, male (per 1,000 male adults)\nSP.DYN.CBRT.IN     Birth rate, crude (per 1,000 people)\nSP.DYN.CDRT.IN     Death rate, crude (per 1,000 people)\nSP.DYN.IMRT.FE.IN  Mortality rate, infant, female (per 1,000 live births)\nSP.DYN.IMRT.IN     Mortality rate, infant (per 1,000 live births)\nSP.DYN.IMRT.MA.IN  Mortality rate, infant, male (per 1,000 live births)\nSP.DYN.LE00.FE.IN  Life expectancy at birth, female (years)\nSP.DYN.LE00.IN     Life expectancy at birth, total (years)\nSP.DYN.LE00.MA.IN  Life expectancy at birth, male (years)\nSP.DYN.TFRT.IN     Fertility rate, total (births per woman)\nSP.POP.0004.FE     Population ages 00-04, female\nSP.POP.0004.FE.5Y  Population ages 00-04, female (% of female population)\nSP.POP.0004.MA     Population ages 00-04, male\nSP.POP.0004.MA.5Y  Population ages 00-04, male (% of male population)\nSP.POP.0014.FE.IN  Population ages 0-14, female\nSP.POP.0014.FE.ZS  Population ages 0-14, female (% of female population)\nSP.POP.0014.MA.IN  Population ages 0-14, male\nSP.POP.0014.MA.ZS  Population ages 0-14, male (% of male population)\nSP.POP.0014.TO     Population ages 0-14, total\nSP.POP.0014.TO.ZS  Population ages 0-14 (% of total population)\nSP.POP.0509.FE     Population ages 05-09, female\nSP.POP.0509.FE.5Y  Population ages 05-09, female (% of female population)\nSP.POP.0509.MA     Population ages 05-09, male\nSP.POP.0509.MA.5Y  Population ages 05-09, male (% of male population)\nSP.POP.1014.FE     Population ages 10-14, female\nSP.POP.1014.FE.5Y  Population ages 10-14, female (% of female population)\nSP.POP.1014.MA     Population ages 10-14, male\nSP.POP.1014.MA.5Y  Population ages 10-14, male (% of male population)\nSP.POP.1519.FE     Population ages 15-19, female\nSP.POP.1519.FE.5Y  Population ages 15-19, female (% of female population)\nSP.POP.1519.MA     Population ages 15-19, male\nSP.POP.1519.MA.5Y  Population ages 15-19, male (% of male population)\nSP.POP.1564.FE.IN  Population ages 15-64, female\nSP.POP.1564.FE.ZS  Population ages 15-64, female (% of female population)\nSP.POP.1564.MA.IN  Population ages 15-64, male\nSP.POP.1564.MA.ZS  Population ages 15-64, male (% of male population)\nSP.POP.1564.TO     Population ages 15-64, total\nSP.POP.1564.TO.ZS  Population ages 15-64 (% of total population)\nSP.POP.2024.FE     Population ages 20-24, female\nSP.POP.2024.FE.5Y  Population ages 20-24, female (% of female population)\nSP.POP.2024.MA     Population ages 20-24, male\nSP.POP.2024.MA.5Y  Population ages 20-24, male (% of male population)\nSP.POP.2529.FE     Population ages 25-29, female\nSP.POP.2529.FE.5Y  Population ages 25-29, female (% of female population)\nSP.POP.2529.MA     Population ages 25-29, male\nSP.POP.2529.MA.5Y  Population ages 25-29, male (% of male population)\nSP.POP.3034.FE     Population ages 30-34, female\nSP.POP.3034.FE.5Y  Population ages 30-34, female (% of female population)\nSP.POP.3034.MA     Population ages 30-34, male\nSP.POP.3034.MA.5Y  Population ages 30-34, male (% of male population)\nSP.POP.3539.FE     Population ages 35-39, female\nSP.POP.3539.FE.5Y  Population ages 35-39, female (% of female population)\nSP.POP.3539.MA     Population ages 35-39, male\nSP.POP.3539.MA.5Y  Population ages 35-39, male (% of male population)\nSP.POP.4044.FE     Population ages 40-44, female\nSP.POP.4044.FE.5Y  Population ages 40-44, female (% of female population)\nSP.POP.4044.MA     Population ages 40-44, male\nSP.POP.4044.MA.5Y  Population ages 40-44, male (% of male population)\nSP.POP.4549.FE     Population ages 45-49, female\nSP.POP.4549.FE.5Y  Population ages 45-49, female (% of female population)\nSP.POP.4549.MA     Population ages 45-49, male\nSP.POP.4549.MA.5Y  Population ages 45-49, male (% of male population)\nSP.POP.5054.FE     Population ages 50-54, female\nSP.POP.5054.FE.5Y  Population ages 50-54, female (% of female population)\nSP.POP.5054.MA     Population ages 50-54, male\nSP.POP.5054.MA.5Y  Population ages 50-54, male (% of male population)\nSP.POP.5559.FE     Population ages 55-59, female\nSP.POP.5559.FE.5Y  Population ages 55-59, female (% of female population)\nSP.POP.5559.MA     Population ages 55-59, male\nSP.POP.5559.MA.5Y  Population ages 55-59, male (% of male population)\nSP.POP.6064.FE     Population ages 60-64, female\nSP.POP.6064.FE.5Y  Population ages 60-64, female (% of female population)\nSP.POP.6064.MA     Population ages 60-64, male\nSP.POP.6064.MA.5Y  Population ages 60-64, male (% of male population)\nSP.POP.6569.FE     Population ages 65-69, female\nSP.POP.6569.FE.5Y  Population ages 65-69, female (% of female population)\nSP.POP.6569.MA     Population ages 65-69, male\nSP.POP.6569.MA.5Y  Population ages 65-69, male (% of male population)\nSP.POP.65UP.FE.IN  Population ages 65 and above, female\nSP.POP.65UP.FE.ZS  Population ages 65 and above, female (% of female population)\nSP.POP.65UP.MA.IN  Population ages 65 and above, male\nSP.POP.65UP.MA.ZS  Population ages 65 and above, male (% of male population)\nSP.POP.65UP.TO     Population ages 65 and above, total\nSP.POP.65UP.TO.ZS  Population ages 65 and above (% of total population)\nSP.POP.7074.FE     Population ages 70-74, female\nSP.POP.7074.FE.5Y  Population ages 70-74, female (% of female population)\nSP.POP.7074.MA     Population ages 70-74, male\nSP.POP.7074.MA.5Y  Population ages 70-74, male (% of male population)\nSP.POP.7579.FE     Population ages 75-79, female\nSP.POP.7579.FE.5Y  Population ages 75-79, female (% of female population)\nSP.POP.7579.MA     Population ages 75-79, male\nSP.POP.7579.MA.5Y  Population ages 75-79, male (% of male population)\nSP.POP.80UP.FE     Population ages 80 and above, female\nSP.POP.80UP.FE.5Y  Population ages 80 and above, female (% of female population)\nSP.POP.80UP.MA     Population ages 80 and above, male\nSP.POP.80UP.MA.5Y  Population ages 80 and above, male (% of male population)\nSP.POP.AG00.FE.IN  Age population, age 00, female, interpolated\nSP.POP.AG00.MA.IN  Age population, age 00, male, interpolated\nSP.POP.AG01.FE.IN  Age population, age 01, female, interpolated\nSP.POP.AG01.MA.IN  Age population, age 01, male, interpolated\nSP.POP.AG02.FE.IN  Age population, age 02, female, interpolated\nSP.POP.AG02.MA.IN  Age population, age 02, male, interpolated\nSP.POP.AG03.FE.IN  Age population, age 03, female, interpolated\nSP.POP.AG03.MA.IN  Age population, age 03, male, interpolated\nSP.POP.AG04.FE.IN  Age population, age 04, female, interpolated\nSP.POP.AG04.MA.IN  Age population, age 04, male, interpolated\nSP.POP.AG05.FE.IN  Age population, age 05, female, interpolated\nSP.POP.AG05.MA.IN  Age population, age 05, male, interpolated\nSP.POP.AG06.FE.IN  Age population, age 06, female, interpolated\nSP.POP.AG06.MA.IN  Age population, age 06, male, interpolated\nSP.POP.AG07.FE.IN  Age population, age 07, female, interpolated\nSP.POP.AG07.MA.IN  Age population, age 07, male, interpolated\nSP.POP.AG08.FE.IN  Age population, age 08, female, interpolated\nSP.POP.AG08.MA.IN  Age population, age 08, male, interpolated\nSP.POP.AG09.FE.IN  Age population, age 09, female, interpolated\nSP.POP.AG09.MA.IN  Age population, age 09, male, interpolated\nSP.POP.AG10.FE.IN  Age population, age 10, female, interpolated\nSP.POP.AG10.MA.IN  Age population, age 10, male, interpolated\nSP.POP.AG11.FE.IN  Age population, age 11, female, interpolated\nSP.POP.AG11.MA.IN  Age population, age 11, male, interpolated\nSP.POP.AG12.FE.IN  Age population, age 12, female, interpolated\nSP.POP.AG12.MA.IN  Age population, age 12, male, interpolated\nSP.POP.AG13.FE.IN  Age population, age 13, female, interpolated\nSP.POP.AG13.MA.IN  Age population, age 13, male, interpolated\nSP.POP.AG14.FE.IN  Age population, age 14, female, interpolated\nSP.POP.AG14.MA.IN  Age population, age 14, male, interpolated\nSP.POP.AG15.FE.IN  Age population, age 15, female, interpolated\nSP.POP.AG15.MA.IN  Age population, age 15, male, interpolated\nSP.POP.AG16.FE.IN  Age population, age 16, female, interpolated\nSP.POP.AG16.MA.IN  Age population, age 16, male, interpolated\nSP.POP.AG17.FE.IN  Age population, age 17, female, interpolated\nSP.POP.AG17.MA.IN  Age population, age 17, male, interpolated\nSP.POP.AG18.FE.IN  Age population, age 18, female, interpolated\nSP.POP.AG18.MA.IN  Age population, age 18, male, interpolated\nSP.POP.AG19.FE.IN  Age population, age 19, female, interpolated\nSP.POP.AG19.MA.IN  Age population, age 19, male, interpolated\nSP.POP.AG20.FE.IN  Age population, age 20, female, interpolated\nSP.POP.AG20.MA.IN  Age population, age 20, male, interpolated\nSP.POP.AG21.FE.IN  Age population, age 21, female, interpolated\nSP.POP.AG21.MA.IN  Age population, age 21, male, interpolated\nSP.POP.AG22.FE.IN  Age population, age 22, female, interpolated\nSP.POP.AG22.MA.IN  Age population, age 22, male, interpolated\nSP.POP.AG23.FE.IN  Age population, age 23, female, interpolated\nSP.POP.AG23.MA.IN  Age population, age 23, male, interpolated\nSP.POP.AG24.FE.IN  Age population, age 24, female, interpolated\nSP.POP.AG24.MA.IN  Age population, age 24, male, interpolated\nSP.POP.AG25.FE.IN  Age population, age 25, female, interpolated\nSP.POP.AG25.MA.IN  Age population, age 25, male, interpolated\nSP.POP.BRTH.MF     Sex ratio at birth (male births per female births)\nSP.POP.DPND        Age dependency ratio (% of working-age population)\nSP.POP.DPND.OL     Age dependency ratio, old (% of working-age population)\nSP.POP.DPND.YG     Age dependency ratio, young (% of working-age population)\nSP.POP.GROW        Population growth (annual %)\nSP.POP.TOTL        Population, total\nSP.POP.TOTL.FE.IN  Population, female\nSP.POP.TOTL.FE.ZS  Population, female (% of total population)\nSP.POP.TOTL.MA.IN  Population, male\nSP.POP.TOTL.MA.ZS  Population, male (% of total population)\nSP.RUR.TOTL        Rural population\nSP.RUR.TOTL.ZG     Rural population growth (annual %)\nSP.RUR.TOTL.ZS     Rural population (% of total population)\nSP.URB.GROW        Urban population growth (annual %)\nSP.URB.TOTL        Urban population\nSP.URB.TOTL.IN.ZS  Urban population (% of total population)"
     },
     "metadata": {}
    }
   ]
  },
  {
   "cell_type": "code",
   "metadata": {
    "cell_id": "b2d6a8f9-aba4-49de-936a-928d1461cdc2",
    "tags": [],
    "deepnote_to_be_reexecuted": false,
    "source_hash": "8bec8f30",
    "execution_start": 1644272059350,
    "execution_millis": 311,
    "deepnote_cell_type": "code"
   },
   "source": "variable_labels = {\"SP.POP.TOTL\":\"World Population\"}\n\nworld = wbdata.get_dataframe(variable_labels, country=\"BRA\")\n\nworld",
   "execution_count": 3,
   "outputs": [
    {
     "output_type": "execute_result",
     "execution_count": 3,
     "data": {
      "application/vnd.deepnote.dataframe.v3+json": {
       "column_count": 1,
       "row_count": 61,
       "columns": [
        {
         "name": "World Population",
         "dtype": "float64",
         "stats": {
          "unique_count": 61,
          "nan_count": 0,
          "min": "72179235.0",
          "max": "212559409.0",
          "histogram": [
           {
            "bin_start": 72179235,
            "bin_end": 86217252.4,
            "count": 7
           },
           {
            "bin_start": 86217252.4,
            "bin_end": 100255269.8,
            "count": 6
           },
           {
            "bin_start": 100255269.8,
            "bin_end": 114293287.2,
            "count": 5
           },
           {
            "bin_start": 114293287.2,
            "bin_end": 128331304.6,
            "count": 5
           },
           {
            "bin_start": 128331304.6,
            "bin_end": 142369322,
            "count": 5
           },
           {
            "bin_start": 142369322,
            "bin_end": 156407339.4,
            "count": 5
           },
           {
            "bin_start": 156407339.4,
            "bin_end": 170445356.8,
            "count": 6
           },
           {
            "bin_start": 170445356.8,
            "bin_end": 184483374.2,
            "count": 6
           },
           {
            "bin_start": 184483374.2,
            "bin_end": 198521391.60000002,
            "count": 7
           },
           {
            "bin_start": 198521391.60000002,
            "bin_end": 212559409,
            "count": 9
           }
          ]
         }
        },
        {
         "name": "_deepnote_index_column",
         "dtype": "object"
        }
       ],
       "rows": [
        {
         "World Population": 212559409,
         "_deepnote_index_column": "2020"
        },
        {
         "World Population": 211049519,
         "_deepnote_index_column": "2019"
        },
        {
         "World Population": 209469320,
         "_deepnote_index_column": "2018"
        },
        {
         "World Population": 207833825,
         "_deepnote_index_column": "2017"
        },
        {
         "World Population": 206163056,
         "_deepnote_index_column": "2016"
        },
        {
         "World Population": 204471759,
         "_deepnote_index_column": "2015"
        },
        {
         "World Population": 202763744,
         "_deepnote_index_column": "2014"
        },
        {
         "World Population": 201035904,
         "_deepnote_index_column": "2013"
        },
        {
         "World Population": 199287292,
         "_deepnote_index_column": "2012"
        },
        {
         "World Population": 197514541,
         "_deepnote_index_column": "2011"
        }
       ]
      },
      "text/plain": "      World Population\ndate                  \n2020       212559409.0\n2019       211049519.0\n2018       209469320.0\n2017       207833825.0\n2016       206163056.0\n...                ...\n1964        81064572.0\n1963        78772647.0\n1962        76514329.0\n1961        74311338.0\n1960        72179235.0\n\n[61 rows x 1 columns]",
      "text/html": "<div>\n<style scoped>\n    .dataframe tbody tr th:only-of-type {\n        vertical-align: middle;\n    }\n\n    .dataframe tbody tr th {\n        vertical-align: top;\n    }\n\n    .dataframe thead th {\n        text-align: right;\n    }\n</style>\n<table border=\"1\" class=\"dataframe\">\n  <thead>\n    <tr style=\"text-align: right;\">\n      <th></th>\n      <th>World Population</th>\n    </tr>\n    <tr>\n      <th>date</th>\n      <th></th>\n    </tr>\n  </thead>\n  <tbody>\n    <tr>\n      <th>2020</th>\n      <td>212559409.0</td>\n    </tr>\n    <tr>\n      <th>2019</th>\n      <td>211049519.0</td>\n    </tr>\n    <tr>\n      <th>2018</th>\n      <td>209469320.0</td>\n    </tr>\n    <tr>\n      <th>2017</th>\n      <td>207833825.0</td>\n    </tr>\n    <tr>\n      <th>2016</th>\n      <td>206163056.0</td>\n    </tr>\n    <tr>\n      <th>...</th>\n      <td>...</td>\n    </tr>\n    <tr>\n      <th>1964</th>\n      <td>81064572.0</td>\n    </tr>\n    <tr>\n      <th>1963</th>\n      <td>78772647.0</td>\n    </tr>\n    <tr>\n      <th>1962</th>\n      <td>76514329.0</td>\n    </tr>\n    <tr>\n      <th>1961</th>\n      <td>74311338.0</td>\n    </tr>\n    <tr>\n      <th>1960</th>\n      <td>72179235.0</td>\n    </tr>\n  </tbody>\n</table>\n<p>61 rows × 1 columns</p>\n</div>"
     },
     "metadata": {}
    }
   ]
  },
  {
   "cell_type": "code",
   "source": "",
   "metadata": {
    "cell_id": "40ef80d9-83f0-43a4-bca3-18b734135ebe",
    "deepnote_visualization_spec": {
     "$schema": "https://vega.github.io/schema/vega-lite/v4.json",
     "mark": {
      "type": "bar",
      "tooltip": {
       "content": "data"
      }
     },
     "height": 220,
     "autosize": {
      "type": "fit"
     },
     "data": {
      "name": "placeholder"
     },
     "encoding": {
      "x": {
       "field": "",
       "type": "nominal",
       "sort": null,
       "scale": {
        "type": "linear",
        "zero": false
       }
      },
      "y": {
       "field": "",
       "type": "nominal",
       "sort": null,
       "scale": {
        "type": "linear",
        "zero": true
       }
      },
      "color": {
       "field": "",
       "type": "nominal",
       "sort": null,
       "scale": {
        "type": "linear",
        "zero": false
       }
      }
     }
    },
    "deepnote_to_be_reexecuted": false,
    "source_hash": "b623e53d",
    "execution_start": 1644272059658,
    "execution_millis": 6,
    "deepnote_cell_type": "visualization"
   },
   "execution_count": 3,
   "outputs": []
  },
  {
   "cell_type": "code",
   "metadata": {
    "cell_id": "8fdf1618-6d05-41c7-a30d-4f25d70c7d68",
    "tags": [],
    "deepnote_to_be_reexecuted": false,
    "source_hash": "d71c31d6",
    "execution_start": 1644272059664,
    "execution_millis": 3,
    "deepnote_cell_type": "code"
   },
   "source": "#Function that returns the population of a given sex, year, and place of the people with the \ndef population(sex, year, age_low, age_high, place):\n    if sex == \"Female\" or \"female\":\n        variables = {\"SP.POP.\" + str(age_low)+str(age_high) + \".FE\": sex}\n    elif sex == \"Male\" or \"male\":\n        variables = {\"SP.POP.\" + str(age_low) + str(age_high) + \".MA\": sex}\n    population = wbdata.get_dataframe(variables, country=place)\n    population = population.filter(like=str(year), axis=0)\n    return population[sex][0]\n\n",
   "execution_count": 4,
   "outputs": []
  },
  {
   "cell_type": "code",
   "metadata": {
    "cell_id": "f5babb67-ef22-49fe-bbc4-950eb57f021b",
    "tags": [],
    "deepnote_to_be_reexecuted": false,
    "source_hash": "884b50af",
    "execution_start": 1644272305339,
    "execution_millis": 3,
    "deepnote_output_heights": [
     21.1875
    ],
    "deepnote_cell_type": "code"
   },
   "source": "population(\"Female\", 2012, 15, 19, \"ARG\")",
   "execution_count": 7,
   "outputs": [
    {
     "output_type": "execute_result",
     "execution_count": 7,
     "data": {
      "text/plain": "1740831.0"
     },
     "metadata": {}
    }
   ]
  },
  {
   "cell_type": "code",
   "metadata": {
    "cell_id": "c3d8db8c-1a68-45ab-9afb-f8bd102befde",
    "tags": [],
    "deepnote_to_be_reexecuted": true,
    "source_hash": "b623e53d",
    "execution_start": 1644196911591,
    "execution_millis": 1,
    "deepnote_cell_type": "code"
   },
   "source": "",
   "execution_count": null,
   "outputs": []
  },
  {
   "cell_type": "markdown",
   "source": "<a style='text-decoration:none;line-height:16px;display:flex;color:#5B5B62;padding:10px;justify-content:end;' href='https://deepnote.com?utm_source=created-in-deepnote-cell&projectId=106d38a7-be9f-4375-b8ce-45cefc3e5710' target=\"_blank\">\n<img alt='Created in deepnote.com' style='display:inline;max-height:16px;margin:0px;margin-right:7.5px;' src='data:image/svg+xml;base64,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' > </img>\nCreated in <span style='font-weight:600;margin-left:4px;'>Deepnote</span></a>",
   "metadata": {
    "tags": [],
    "created_in_deepnote_cell": true,
    "deepnote_cell_type": "markdown"
   }
  }
 ],
 "nbformat": 4,
 "nbformat_minor": 2,
 "metadata": {
  "orig_nbformat": 2,
  "deepnote": {
   "is_reactive": false
  },
  "deepnote_notebook_id": "e564b729-7d98-45b1-8305-7c45d52d2854",
  "deepnote_execution_queue": []
 }
}